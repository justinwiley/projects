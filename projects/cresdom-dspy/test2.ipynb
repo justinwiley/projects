{
 "cells": [
  {
   "cell_type": "code",
   "execution_count": 11,
   "metadata": {},
   "outputs": [
    {
     "name": "stderr",
     "output_type": "stream",
     "text": [
      "100%|██████████| 4/4 [00:00<00:00, 4449.01it/s]\n"
     ]
    }
   ],
   "source": [
    "import dspy\n",
    "from dspy.datasets.gsm8k import GSM8K, gsm8k_metric\n",
    "\n",
    "# Set up the LM\n",
    "turbo = dspy.OpenAI(model=\"gpt-3.5-turbo-instruct\", max_tokens=250)\n",
    "dspy.settings.configure(lm=turbo)\n",
    "\n",
    "\n",
    "class CreateHaiku(dspy.Signature):\n",
    "    \"\"\"Create a one sentence haiku based on the topic.\"\"\"\n",
    "\n",
    "    topic = dspy.InputField()\n",
    "    context = dspy.InputField()\n",
    "    answer = dspy.OutputField(desc=\"a sentence with a haiku\")\n",
    "\n",
    "\n",
    "class HaikuPipeline(dspy.Module):\n",
    "    def __init__(self, num_passages=3):\n",
    "        super().__init__()\n",
    "\n",
    "        self.generate_haiku = dspy.Predict(CreateHaiku)\n",
    "\n",
    "    def forward(self, topic):\n",
    "        context = \"\"\n",
    "        prediction = self.generate_haiku(topic=topic, context=context)\n",
    "        return dspy.Prediction(topic=topic, answer=prediction.answer, context=context)\n",
    "\n",
    "\n",
    "from dspy.teleprompt import BootstrapFewShot\n",
    "\n",
    "\n",
    "# Validation logic: check that the predicted answer is correct.\n",
    "# Also check that the retrieved context does actually contain that answer.\n",
    "def validate_context_and_answer(example, pred, trace=None):\n",
    "    # answer_EM = dspy.evaluate.answer_exact_match(example, pred)\n",
    "    answer_PM = dspy.evaluate.answer_passage_match(example, pred)\n",
    "    return answer_PM\n",
    "\n",
    "\n",
    "# Set up a basic teleprompter, which will compile our RAG program.\n",
    "teleprompter = BootstrapFewShot(metric=validate_context_and_answer)\n",
    "\n",
    "examples = [\n",
    "    dspy.Example(\n",
    "        topic=\"trees\",\n",
    "        answer=\"Golden leaves falling / Nature's dance with the wind / Serene and peaceful.\",\n",
    "    ),\n",
    "    dspy.Example(\n",
    "        topic=\"fun\", answer=\"Joyful laughter / Fun bubbles up / Childhood memories.\"\n",
    "    ),\n",
    "    dspy.Example(\n",
    "        topic=\"hope\",\n",
    "        answer=\"Hope blooms / Like a flower in spring / Brighten up our days.\",\n",
    "    ),\n",
    "    dspy.Example(\n",
    "        topic=\"money\",\n",
    "        answer=\"Money piles high / A symbol of success / Negotiations begin.\",\n",
    "    ),\n",
    "    # dspy.Example(topic=\"age\", answer=\"Aging gracefully / Reflection of life / Nourishes growth.\"),\n",
    "    # dspy.Example(topic=\"stupidity\", answer=\"Stupidity never ends / Knowledge is power / Ignorance is not an option.\"),\n",
    "    # dspy.Example(topic=\"poop\", answer=\"Poop comes out of the pot / In the bathroom bush / Needs to go potty.\"),\n",
    "    # dspy.Example(topic=\"nerds\", answer=\"Nerds rule the world / Intelligence is power / Geek pride forever.\"),\n",
    "    # dspy.Example(topic=\"bananas\", answer=\"Bananas are delicious / Eating them makes me happy / Oh), the joy of fruit.\"),\n",
    "    # dspy.Example(topic=\"whistles\", answer=\"Whistling in the dark / Sounds so good in my ear / Peaceful and serene.\"),\n",
    "    # dspy.Example(topic=\"beauty\", answer=\"Beauty is in the eye of the beholder / A creation of nature / Timeless and evergreen.\"),\n",
    "]\n",
    "\n",
    "trainset = [x.with_inputs(\"topic\") for x in examples]\n",
    "compiled_haiku = teleprompter.compile(HaikuPipeline(), trainset=trainset)\n",
    "\n",
    "# my_topic = \"castles\"\n",
    "\n",
    "# pred = compiled_haiku(my_topic)\n",
    "\n",
    "# print(f\"Question: {my_topic}\")\n",
    "# print(f\"Predicted Answer: {pred.answer}\")\n",
    "\n",
    "# turbo.inspect_history(n=1)"
   ]
  }
 ],
 "metadata": {
  "kernelspec": {
   "display_name": ".venv",
   "language": "python",
   "name": "python3"
  },
  "language_info": {
   "codemirror_mode": {
    "name": "ipython",
    "version": 3
   },
   "file_extension": ".py",
   "mimetype": "text/x-python",
   "name": "python",
   "nbconvert_exporter": "python",
   "pygments_lexer": "ipython3",
   "version": "3.12.2"
  }
 },
 "nbformat": 4,
 "nbformat_minor": 2
}
