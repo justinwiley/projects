{
 "cells": [
  {
   "cell_type": "code",
   "execution_count": 60,
   "metadata": {},
   "outputs": [
    {
     "data": {
      "text/html": [
       "\n",
       "      <div style=\"margin: 10px; padding: 10px; border: 1px solid black; background-color:#fff5e3; \">\n",
       "      <span style=\"font-size: 14px; font-weight: 500; color: green;\">Sure, here's an example of a test case using the `test` and `end_of_turn` functions:\n",
       "\n",
       "```python\n",
       "def test():\n",
       "  \"\"\"\n",
       "  This function tests the functionality of the `test` and `end_of_turn` functions.\n",
       "  \"\"\"\n",
       "\n",
       "  # Initialize the variables we need for the test.\n",
       "  result = False\n",
       "  message = \"\"\n",
       "\n",
       "  # Execute the code we want to test.\n",
       "  result = some_function()\n",
       "\n",
       "  # Check the result and message.\n",
       "  if result:\n",
       "    message = \"The function worked as expected.\"\n",
       "  else:\n",
       "    message = \"The function failed as expected.\"\n",
       "\n",
       "  # Return the result and message.\n",
       "  return result, message\n",
       "\n",
       "\n",
       "# Run the test case.\n",
       "result, message = test()\n",
       "\n",
       "# Print the result and message.\n",
       "print(f\"Result: {result}\")\n",
       "print(f\"Message: {message}\")\n",
       "```\n",
       "\n",
       "**Explanation:**\n",
       "\n",
       "1. The `test` function defines a test case named `test`.\n",
       "2. Inside the `test` function, we initialize two variables: `result` to `False` and `message` to an empty string.\n",
       "3. We then execute the code we want to test by calling `some_function`.\n",
       "4. We check the `result` and `message` after the function execution and update the `message` variable accordingly.\n",
       "5. Finally, we return the `result` and `message` as a tuple and call the `test` function.\n",
       "6. In the main part of the code, we call the `test` function and print the result and message.\n",
       "\n",
       "**Output:**\n",
       "\n",
       "```\n",
       "Result: True\n",
       "Message: The function worked as expected.\n",
       "```\n",
       "\n",
       "**Note:**\n",
       "\n",
       "* Replace `some_function` with the actual function you want to test.\n",
       "* You can modify the `test` function to perform different tests with different inputs.\n",
       "* The `end_of_turn` function is not defined in this example, but it is used in the `test` function to signal the end of the test execution.</span>\n",
       "      </div>\n",
       "    "
      ],
      "text/plain": [
       "<IPython.core.display.HTML object>"
      ]
     },
     "metadata": {},
     "output_type": "display_data"
    }
   ],
   "source": [
    "from langchain_community.llms import Ollama\n",
    "from openai import OpenAI\n",
    "import os\n",
    "from IPython.display import display, HTML, clear_output\n",
    "\n",
    "\n",
    "def p(str, color):\n",
    "    display(\n",
    "        (\n",
    "            HTML(\n",
    "                f\"\"\"\n",
    "      <div style=\"margin: 10px; padding: 10px; border: 1px solid black; background-color:#fff5e3; \">\n",
    "      <span style=\"font-size: 14px; font-weight: 500; color: {color};\">{str}</span>\n",
    "      </div>\n",
    "    \"\"\"\n",
    "            )\n",
    "        )\n",
    "    )\n",
    "\n",
    "\n",
    "class OpenAi:\n",
    "    def __init__(self):\n",
    "        self.client = OpenAI(\n",
    "            api_key=os.environ.get(\"OPENAI_API_KEY\"),\n",
    "        )\n",
    "\n",
    "    def invoke(self, system, user):\n",
    "        completion = self.client.chat.completions.create(\n",
    "            messages=[\n",
    "                {\n",
    "                    \"role\": \"system\",\n",
    "                    \"content\": system,\n",
    "                },\n",
    "                {\n",
    "                    \"role\": \"user\",\n",
    "                    \"content\": user,\n",
    "                },\n",
    "            ],\n",
    "            model=\"gpt-3.5-turbo\",\n",
    "        )\n",
    "        return completion.choices[0].message.content\n",
    "\n",
    "\n",
    "llm = Ollama(model=\"gemma:2b\")\n",
    "result = llm.invoke(\"test\")\n",
    "p(result, \"green\")\n",
    "open_ai = OpenAi()"
   ]
  },
  {
   "cell_type": "code",
   "execution_count": 61,
   "metadata": {},
   "outputs": [
    {
     "data": {
      "text/html": [
       "\n",
       "      <div style=\"margin: 10px; padding: 10px; border: 1px solid black; background-color:#fff5e3; \">\n",
       "      <span style=\"font-size: 14px; font-weight: 500; color: purple;\">## Lady Olivia Grey\n",
       "\n",
       "**Age:** 45\n",
       "**Gender:** Female\n",
       "\n",
       "**Background:** Born into the aristocracy of the manor, Olivia inherited her family's wealth and position. Raised by her loving grandmother, Olivia was nurtured and groomed for a future of societal grace and marriage.\n",
       "\n",
       "**Interactions with Others:** Olivia is a graceful and intelligent woman, known for her wit and poise. She is fiercely protective of her family and enjoys controlling their lives. She is also fiercely devoted to appearances, often putting on a facade to maintain social harmony.\n",
       "\n",
       "**Formative Event:** Olivia witnessed her mother's tragic fall from grace when she was young. This event deeply impacted her, shaping her values and worldview.\n",
       "\n",
       "**Secret:** Olivia has a hidden desire to uncover the truth about her mother's past. She believes that her mother's life was not as idyllic as she was led to believe and seeks to uncover any hidden secrets or betrayals. However, she is hesitant to jeopardize the family's reputation and her own social standing.\n",
       "## Lady Eleanor Grey\n",
       "\n",
       "**Age:** 52\n",
       "**Gender:** Female\n",
       "**Background:** Born into a wealthy and influential family, Eleanor grew up with an emphasis on education and social engagements.\n",
       "\n",
       "**Interactions with Others:**\n",
       "\n",
       "* She is fiercely independent and self-assured, but also shows warmth and humor to her family and closest friends.\n",
       "* Despite her outward confidence, Eleanor deeply cares about the well-being of others and is always willing to lend a helping hand.\n",
       "* She possesses a sharp wit and is quick to defend her opinions, but she is also open to learning and considering other perspectives.\n",
       "\n",
       "**Formative Event:**\n",
       "\n",
       "Eleanor witnessed a heated argument between her parents, which deeply affected her emotional well-being. This experience instilled in her a deep sense of empathy and a desire to foster better communication within the family.\n",
       "\n",
       "**Secret:**\n",
       "\n",
       "Eleanor secretly harbors a deep resentment towards her younger brother, Charles. She feels that Charles was favored by their parents and that she was overlooked for attention and opportunities. This resentment sometimes manifests in subtle ways, such as passive-aggression or manipulative behavior.\n",
       "## Lady Olivia Blake\n",
       "\n",
       "**Age:** 55\n",
       "**Gender:** Female\n",
       "**Background:** Olivia was born into a wealthy and influential family. Her father was a prominent lawyer and her mother was the eldest daughter of a wealthy merchant. Olivia grew up surrounded by her siblings and was expected to follow in her parents' footsteps.\n",
       "\n",
       "**Interactions:** Olivia is a witty and sharp woman who is quick to speak her mind. She is fiercely loyal to her family and friends and is always willing to lend a helping hand. However, Olivia can be fiercely protective of those she cares about and can be quick to become angry or frustrated.\n",
       "\n",
       "**Formative Event:** Olivia's formative event was when her father died in a suspicious accident. Olivia was devastated by his death and struggled to cope with the loss of her anchor.\n",
       "\n",
       "**Secret:** Olivia has a deep secret she has kept hidden for many years. She is estranged from her younger sister, Jane, as Jane had been a source of competition and jealousy throughout Olivia's life. Olivia's secret is the truth about her parents' past and the circumstances surrounding her father's death.\n",
       "\n",
       "**Explanation:** Olivia's secret is a complex and painful one that has haunted her for years. She is ashamed of her family's past and fears that revealing it would shatter the trust she has built with her siblings.</span>\n",
       "      </div>\n",
       "    "
      ],
      "text/plain": [
       "<IPython.core.display.HTML object>"
      ]
     },
     "metadata": {},
     "output_type": "display_data"
    }
   ],
   "source": [
    "import pprint\n",
    "\n",
    "pp = pprint.pprint\n",
    "\n",
    "setting = \"a family drama set in an english manor\"\n",
    "\n",
    "\n",
    "def generate_name(past_names):\n",
    "    return llm.invoke(\n",
    "        f\"Generate a plausible but.  Dont use any of the following: {\",\".join(past_names)}. ONLY RETURN THE NAME\"\n",
    "    )\n",
    "\n",
    "\n",
    "def generate_characters(num_characters, setting):\n",
    "    character_gen_prompt = f\"\"\"\n",
    "    Generate a character in a play. The setting is {setting}\n",
    "    The character should have:\n",
    "    - a name, age and gender\n",
    "    - 2 sentences detailing their background\n",
    "    - 3 sentences detailing how they interact with others\n",
    "    - 1 sentence describing an event that was deeply formative\n",
    "    - 1 sentence explicitly detailing a secret they dont want to reveal.  Explain what the secret is\n",
    "    \"\"\"\n",
    "\n",
    "    characters = []\n",
    "    for i in range(num_characters):\n",
    "        char = llm.invoke(character_gen_prompt)\n",
    "        characters.append(char)\n",
    "    return characters\n",
    "\n",
    "\n",
    "characters = generate_characters(3, setting)\n",
    "\n",
    "p(\"\\n\".join(characters), \"purple\")"
   ]
  },
  {
   "cell_type": "code",
   "execution_count": 62,
   "metadata": {},
   "outputs": [
    {
     "data": {
      "text/html": [
       "\n",
       "      <div style=\"margin: 10px; padding: 10px; border: 1px solid black; background-color:#fff5e3; \">\n",
       "      <span style=\"font-size: 14px; font-weight: 500; color: green;\">Interaction: 0</span>\n",
       "      </div>\n",
       "    "
      ],
      "text/plain": [
       "<IPython.core.display.HTML object>"
      ]
     },
     "metadata": {},
     "output_type": "display_data"
    },
    {
     "data": {
      "text/html": [
       "\n",
       "      <div style=\"margin: 10px; padding: 10px; border: 1px solid black; background-color:#fff5e3; \">\n",
       "      <span style=\"font-size: 14px; font-weight: 500; color: magenta;\">\n",
       "**Olivia:** Eleanor, I heard about your encounter with Charles. It's terrible that he treats you like that. You deserve so much more than that.\n",
       "\n",
       "**Eleanor:** You know, Olivia, I can see why he would be drawn to me. He's handsome and charming, but he's also kind and thoughtful. I'd never intentionally hurt him.\n",
       "\n",
       "**Olivia:** But it's not just about that, Eleanor. It's about the way he treats our parents. It's about the unspoken tension between him and them. I can feel it in the air.\n",
       "\n",
       "**Eleanor:** I understand your concerns, Olivia. But I can assure you, I wouldn't intentionally harm Charles. He's a good friend, and I would never do anything to jeopardize our family's reputation.\n",
       "</span>\n",
       "      </div>\n",
       "    "
      ],
      "text/plain": [
       "<IPython.core.display.HTML object>"
      ]
     },
     "metadata": {},
     "output_type": "display_data"
    },
    {
     "data": {
      "text/html": [
       "\n",
       "      <div style=\"margin: 10px; padding: 10px; border: 1px solid black; background-color:#fff5e3; \">\n",
       "      <span style=\"font-size: 14px; font-weight: 500; color: black;\">\n",
       "Event: $The flickering candlelight cast dancing shadows on Olivia's face as she paced the manor corridors, her heart hammering a frantic rhythm against her ribs. Her gaze was fixed on the locked door leading to the study, a mixture of curiosity and dread churning within her.\n",
       "\n",
       "The dramatic event that changed the course of the plot was the sudden appearance of a stranger at the manor gates. The man, shrouded in darkness, spoke in a hushed voice, his eyes seeming to flicker with an unsettling glint. He introduced himself as Edward, Olivia's distant cousin who had been visiting the manor for the past few weeks.\n",
       "\n",
       "Olivia's heart raced as she cautiously approached Edward, her eyes wide with suspicion. She knew he held a secret about her family, but she was determined to protect it. She reached out to him cautiously, her hand trembling as she spoke.\n",
       "\n",
       "\"Edward, what are you doing here?\" she asked, her voice trembling with fear.\n",
       "\n",
       "Edward smiled coldly, his eyes glinting with a sinister edge. \"I have come to gather information about the manor and its inhabitants. I have heard whispers of a tragic event that occurred years ago, and I believe I can help shed some light on it.\"\n",
       "\n",
       "Olivia's mind raced as she tried to figure out Edward's motives and to discern if he could be trusted. She knew she had to be careful, but she also knew that she couldn't refuse his request.\n",
       "\n",
       "\"I'm not sure what you want,\" she finally said, her voice shaking with uncertainty.\n",
       "\n",
       "Edward leaned closer to Olivia, his voice dropping to a conspiratorial whisper. \"I want to know the truth about my parents' past. I believe that Olivia witnessed something that she shouldn't have, and I want to know the details.\"\n",
       "\n",
       "Olivia's heart skipped a beat as she realized the gravity of Edward's proposition. She knew that revealing her family's secret would shatter her carefully constructed world. But she also knew that she couldn't let Edward manipulate her or take away her freedom.\n",
       "\n",
       "\"I'm not sure how to trust you,\" she finally said, her voice trembling with emotion.\n",
       "\n",
       "Edward smiled warmly, his eyes twinkling with delight. \"I understand that. But I assure you, I am a man of honor and integrity. I will respect your privacy and the safety of your family.\"\n",
       "\n",
       "Olivia hesitated for a moment before her resolve began to waver. She knew that she had to make a decision, and she knew that her decision would have far-reaching consequences. She glanced into Edward's eyes, her heart pounding in her chest, and she knew that she had a choice to make.\n",
       "\n",
       "\"I'll consider your request,\" she finally said, her voice betraying her inner turmoil.\n",
       "\n",
       "As the conversation continued, Olivia and Edward's bond grew, and she found herself opening up to him in ways she never thought she would. She discovered that Edward was not the deceitful figure she had first perceived him to be, and she began to understand the complexities of family dynamics and the sacrifices that people sometimes have to make.\n",
       "\n",
       "In the end, Olivia and Edward's connection led to a profound realization. They were not just family members but individuals who had shared a past and had been shaped by it in different ways. They understood that truth and forgiveness could sometimes coexist, even if it was difficult to accept.\n",
       "\n",
       "As the sun began to set, casting long shadows on the manor grounds, Olivia and Edward stood together, their faces filled with a newfound sense of understanding and hope. They knew that their journey would not be easy, but they were determined to find a way forward, to heal the wounds of the past, and to build a future based on truth and love.</span>\n",
       "      </div>\n",
       "    "
      ],
      "text/plain": [
       "<IPython.core.display.HTML object>"
      ]
     },
     "metadata": {},
     "output_type": "display_data"
    },
    {
     "data": {
      "text/html": [
       "\n",
       "      <div style=\"margin: 10px; padding: 10px; border: 1px solid black; background-color:#fff5e3; \">\n",
       "      <span style=\"font-size: 14px; font-weight: 500; color: green;\">Interaction: 1</span>\n",
       "      </div>\n",
       "    "
      ],
      "text/plain": [
       "<IPython.core.display.HTML object>"
      ]
     },
     "metadata": {},
     "output_type": "display_data"
    },
    {
     "data": {
      "text/html": [
       "\n",
       "      <div style=\"margin: 10px; padding: 10px; border: 1px solid black; background-color:#fff5e3; \">\n",
       "      <span style=\"font-size: 14px; font-weight: 500; color: magenta;\">\n",
       "\"I understand that I have a lot to learn from you,\" Olivia said, her voice laced with both apprehension and excitement.\n",
       "\n",
       "\"I know that I can't trust you completely,\" Edward said, his eyes holding a mixture of determination and vulnerability.\n",
       "\n",
       "\"I'm not a deceitful figure,\" Olivia countered, her tone softening. \"I just had to find out what my parents really did.\"\n",
       "\n",
       "\"I can assure you,\" Edward said, his eyes shining with a newfound resolve. \"I am not the monster you think I am.\"\n",
       "\n",
       "\"I'm not sure if I can believe you,\" Olivia said, her voice trembling with uncertainty. \"But I have to try, don't I?\"\n",
       "\n",
       "\"I understand,\" Edward said, his voice filled with a quiet hope. \"But I'm not here to harm you. I'm here to help.\"\n",
       "\n",
       "As they sat there, the flickering candlelight casting dancing shadows on their faces, Olivia and Edward knew that their journey had just begun.\n",
       "</span>\n",
       "      </div>\n",
       "    "
      ],
      "text/plain": [
       "<IPython.core.display.HTML object>"
      ]
     },
     "metadata": {},
     "output_type": "display_data"
    },
    {
     "data": {
      "text/html": [
       "\n",
       "      <div style=\"margin: 10px; padding: 10px; border: 1px solid black; background-color:#fff5e3; \">\n",
       "      <span style=\"font-size: 14px; font-weight: 500; color: black;\">\n",
       "Event: $Olivia watched the tense dinner unfold with a mixture of frustration and sadness. Her gaze flickered between her parents, their faces etched with a mix of love and desperation. The atmosphere was thick with unspoken accusations and veiled threats.\n",
       "\n",
       "As the conversation progressed, Olivia felt a shift in the air. Her father's name was brought up, and she knew that his death was anything but an accident. The way he had vanished under mysterious circumstances added to her suspicions. She knew that her mother had been involved somehow, but she was hesitant to pry further.\n",
       "\n",
       "When her mother finally spoke, her voice trembled with emotion as she revealed that Olivia had been left behind after she was born. Olivia's heart sank. She had always sensed that there was more to her mother's past, but she had never dared to investigate.\n",
       "\n",
       "The revelation shattered Olivia's carefully constructed facade. She had always seen her mother as a pillar of strength, but now she knew that she had been hiding secrets that could shatter her family's reputation. She felt a burning desire to uncover the truth, but she knew that doing so would have devastating consequences.\n",
       "\n",
       "As the night wore on, Olivia's resolve began to crumble. She felt a sense of betrayal and anger wash over her. She knew that she could no longer maintain her facade of grace and composure. She had to find a way to confront her parents and uncover the truth about her mother's past.\n",
       "\n",
       "She knew that this was a battle she had to fight alone, but she was determined to find answers. She resolved to confront her parents, but she knew that she had to do so carefully. She had to make sure that they were ready for what she had to tell them.\n",
       "\n",
       "With a heavy heart, Olivia made her move. She gathered her courage and began to ask questions, her voice trembling with emotion. She spoke the truth about her mother's past and the circumstances surrounding her father's death.\n",
       "\n",
       "The silence that followed was deafening, but Olivia held her ground. She refused to be silenced or intimidated. She knew that her words would come back to haunt her, but she also knew that she had to stand up for what she believed in.\n",
       "\n",
       "As the truth came out, Olivia's parents were stunned and betrayed. They looked at each other in shock, their eyes wide with disbelief. Olivia watched as they struggled to process what she had just revealed, but she remained steadfast and determined.\n",
       "\n",
       "In that moment, Olivia realized that she had finally found her voice and that she would not be silenced. She was determined to find the truth about her family and to expose the truth behind her mother's past. She knew that this was just the beginning of her journey, but she was finally ready to embark on it.\n",
       "\n",
       "</end_of_turn></span>\n",
       "      </div>\n",
       "    "
      ],
      "text/plain": [
       "<IPython.core.display.HTML object>"
      ]
     },
     "metadata": {},
     "output_type": "display_data"
    },
    {
     "data": {
      "text/html": [
       "\n",
       "      <div style=\"margin: 10px; padding: 10px; border: 1px solid black; background-color:#fff5e3; \">\n",
       "      <span style=\"font-size: 14px; font-weight: 500; color: green;\">Interaction: 2</span>\n",
       "      </div>\n",
       "    "
      ],
      "text/plain": [
       "<IPython.core.display.HTML object>"
      ]
     },
     "metadata": {},
     "output_type": "display_data"
    },
    {
     "data": {
      "text/html": [
       "\n",
       "      <div style=\"margin: 10px; padding: 10px; border: 1px solid black; background-color:#fff5e3; \">\n",
       "      <span style=\"font-size: 14px; font-weight: 500; color: magenta;\">\n",
       "**Olivia:** I can't let you leave now, Edward. You have to stay.\n",
       "\n",
       "**Edward:** But I can't stay here forever, Olivia. I have things to do.\n",
       "\n",
       "**Olivia:** You can't just vanish like you did before. You have to face the consequences of your actions.\n",
       "\n",
       "**Edward:** I'm not afraid of consequences, Olivia. I know the truth about your mother, and I'm not going to let it go to waste.\n",
       "\n",
       "**Olivia:** You have no idea what I've gone through, Edward. I'm not a fool.\n",
       "\n",
       "**Edward:** I know enough to know that you're hiding something. And I know that that something is about your mother.\n",
       "\n",
       "**Olivia:** We'll see about that.\n",
       "</span>\n",
       "      </div>\n",
       "    "
      ],
      "text/plain": [
       "<IPython.core.display.HTML object>"
      ]
     },
     "metadata": {},
     "output_type": "display_data"
    },
    {
     "data": {
      "text/html": [
       "\n",
       "      <div style=\"margin: 10px; padding: 10px; border: 1px solid black; background-color:#fff5e3; \">\n",
       "      <span style=\"font-size: 14px; font-weight: 500; color: black;\">\n",
       "Event: $## The Untold Story\n",
       "\n",
       "Olivia stood at the precipice of her manor, the weight of truth hanging heavy in the air. Her heart hammered a frantic rhythm against her ribs, each beat echoing the turmoil within her. She knew her secret could shatter the fragile peace she had painstakingly crafted over the years.\n",
       "\n",
       "Her gaze swept across the sprawling grounds, the manicured gardens and the crumbling manor looming like ominous giants. The memory of her mother's tragic fall from grace haunted her every move. Olivia had witnessed the pain and devastation that unfolded that fateful night, a pain she had tried to ignore but could no longer ignore.\n",
       "\n",
       "She had come to a decision. She would unveil her secret. But how?\n",
       "\n",
       "Olivia's mind raced, every path leading to treacherous consequences. She could reveal the truth to her siblings, shattering their fragile unity and tearing apart the family she had built. Or, she could find a way to unveil it subtly, leaving them to piece together the puzzle on their own, preserving her own sanity.\n",
       "\n",
       "As the sun dipped below the horizon, casting long shadows across the manor, Olivia knew she had to choose a path. She rose, her heart pounding a frantic rhythm against her ribs, and began to weave her truth into a tapestry of lies and half-truths.\n",
       "\n",
       "She crafted stories about her mother's past, painting her as a loving and devoted wife and mother. She manipulated her siblings' attention, ensuring they saw her as the pillar of the family. She played her part perfectly, but she knew it was a facade, a fragile mask masking the storm raging beneath the surface.\n",
       "\n",
       "Olivia's eyes glinted with a mix of determination and fear. She had a feeling that this was the start of a new chapter, a chapter that would forever alter her family dynamics. She had to know, once she revealed the truth, whether it would unite them or tear them apart.\n",
       "\n",
       "With a newfound resolve, Olivia turned her gaze towards the manor's grand entrance, the moonlight shimmering off the polished stones. She knew her secret was a truth that had to be revealed, but she was also aware of the consequences that awaited her. She stood tall, her heart pounding a deafening rhythm, and faced the unknown.\n",
       "\n",
       "The play would take an unexpected turn as Olivia's truth unfolds, shattering the facade and revealing the painful truth about her family's past. The play would explore the complex dynamics between Olivia, Eleanor, and Charles, as they grapple with the consequences of truth and deception. It would delve into the theme of forgiveness and the burden of secrets, ultimately revealing the emotional and psychological turmoil that unfolded within the manor walls.</span>\n",
       "      </div>\n",
       "    "
      ],
      "text/plain": [
       "<IPython.core.display.HTML object>"
      ]
     },
     "metadata": {},
     "output_type": "display_data"
    },
    {
     "data": {
      "text/html": [
       "\n",
       "      <div style=\"margin: 10px; padding: 10px; border: 1px solid black; background-color:#fff5e3; \">\n",
       "      <span style=\"font-size: 14px; font-weight: 500; color: green;\">Interaction: 3</span>\n",
       "      </div>\n",
       "    "
      ],
      "text/plain": [
       "<IPython.core.display.HTML object>"
      ]
     },
     "metadata": {},
     "output_type": "display_data"
    },
    {
     "data": {
      "text/html": [
       "\n",
       "      <div style=\"margin: 10px; padding: 10px; border: 1px solid black; background-color:#fff5e3; \">\n",
       "      <span style=\"font-size: 14px; font-weight: 500; color: magenta;\">\n",
       "**Olivia:** Edward, my secret is no longer a whisper in the wind. It's a storm about to break. \n",
       "\n",
       "**Edward:** I hear you, Olivia. My feelings for you have always held a certain...depth, but now I understand that they extend beyond the boundaries of family.\n",
       "\n",
       "**Olivia:** We were so careful not to lose ourselves in the past, but I can no longer keep my burden hidden.\n",
       "\n",
       "**Edward:** I know, Olivia. And I'm here to listen, to help you navigate this storm you're about to embark upon.\n",
       "\n",
       "**Olivia:** I know you're not part of this drama, Edward, but I trust you with my truth. Please, be here for me, when I need you.\n",
       "</span>\n",
       "      </div>\n",
       "    "
      ],
      "text/plain": [
       "<IPython.core.display.HTML object>"
      ]
     },
     "metadata": {},
     "output_type": "display_data"
    },
    {
     "data": {
      "text/html": [
       "\n",
       "      <div style=\"margin: 10px; padding: 10px; border: 1px solid black; background-color:#fff5e3; \">\n",
       "      <span style=\"font-size: 14px; font-weight: 500; color: black;\">\n",
       "Event: $The opulent manor doors creaked open with a resounding thud, a stark contrast to the usual hushed quiet. Olivia Grey, impeccably dressed and poised, stood on the veranda, her gaze fixed on the manor house.\n",
       "\n",
       "\"My children,\" she spoke, her voice laced with a surprising vulnerability, \"a secret weighs heavily upon my heart. Something I must know. But to reveal it would shatter the fragile facade that has shielded us for so long. I cannot afford that.\"\n",
       "\n",
       "A flicker of something akin to worry crossed her face. Eleanor Grey entered the room, her eyes filled with a mixture of concern and unspoken questions. Olivia's eyes met both of their gaze, a silent communication passing between them.\n",
       "\n",
       "\"I witnessed the events surrounding my father's death,\" Olivia continued, her voice betraying no emotion. \"The truth, painful as it may be, remains hidden, a burden I carry to this day.\"\n",
       "\n",
       "Eleanor's eyes narrowed, her jaw clenched as she listened intently. Her expression remained a mask of composure, but a slight tremor ran through her fingers. Olivia could sense her sister's discomfort and knew that this secret would not remain buried forever.\n",
       "\n",
       "\"What is it, Olivia?\" Eleanor prompted, her voice laced with a mixture of curiosity and concern.\n",
       "\n",
       "\"The truth about his death,\" Olivia said, her voice betraying no emotion, \"the circumstances surrounding his passing.\"\n",
       "\n",
       "The silence stretched like an endless string, the air crackling with unspoken words. Olivia's eyes flickered as she looked into her children's faces, her heart pounding with a mix of dread and hope.\n",
       "\n",
       "\"I can't live with this burden any longer,\" she confessed, her voice trembling with a mix of pain and determination. \"I need to know the truth.\"\n",
       "\n",
       "The two sisters stared at Olivia in shock, their faces etched with a mixture of betrayal, anger, and a profound sense of betrayal. Olivia could feel the weight of their unspoken questions pressing down on her shoulders, a silent plea for answers that hung in the air like a storm cloud.\n",
       "\n",
       "As Olivia's eyes locked onto her children's, a storm of emotions surged within her. Tears streamed down her cheeks as she spoke, her voice choked with a mixture of denial and longing.\n",
       "\n",
       "\"I can't keep this any longer,\" she said, her voice breaking into a sob. \"I need to know who I can trust, what they know about my past.\"\n",
       "\n",
       "The manor house fell silent around them as Olivia's children exchanged uneasy glances, a silent acknowledgment of the unspoken truth that hung between them. The storm of emotions had begun, a tempest that threatened to shatter the fragile facade they had built around themselves.</span>\n",
       "      </div>\n",
       "    "
      ],
      "text/plain": [
       "<IPython.core.display.HTML object>"
      ]
     },
     "metadata": {},
     "output_type": "display_data"
    },
    {
     "data": {
      "text/html": [
       "\n",
       "      <div style=\"margin: 10px; padding: 10px; border: 1px solid black; background-color:#fff5e3; \">\n",
       "      <span style=\"font-size: 14px; font-weight: 500; color: green;\">Interaction: 4</span>\n",
       "      </div>\n",
       "    "
      ],
      "text/plain": [
       "<IPython.core.display.HTML object>"
      ]
     },
     "metadata": {},
     "output_type": "display_data"
    },
    {
     "data": {
      "text/html": [
       "\n",
       "      <div style=\"margin: 10px; padding: 10px; border: 1px solid black; background-color:#fff5e3; \">\n",
       "      <span style=\"font-size: 14px; font-weight: 500; color: magenta;\">\n",
       "**Olivia and Eleanor:**\n",
       "\n",
       "**Eleanor:** You've come a long way, Olivia. It's time to face the truth, what it is and how it impacts us all.\n",
       "\n",
       "**Olivia:** I've thought about it, Eleanor. It's a lot to process, but I can't let the weight of this burden carry me away anymore. I need to know what I'm dealing with.\n",
       "</span>\n",
       "      </div>\n",
       "    "
      ],
      "text/plain": [
       "<IPython.core.display.HTML object>"
      ]
     },
     "metadata": {},
     "output_type": "display_data"
    },
    {
     "data": {
      "text/html": [
       "\n",
       "      <div style=\"margin: 10px; padding: 10px; border: 1px solid black; background-color:#fff5e3; \">\n",
       "      <span style=\"font-size: 14px; font-weight: 500; color: black;\">\n",
       "Event: $Olivia's hidden secret finally came to light during a tense family dinner. As she listened to her siblings argue about the manor's future, Olivia's heart sank. She could not bear to witness the hypocrisy and deceit that she had always sensed surrounding her family.\n",
       "\n",
       "The argument escalated, and Olivia realized that she could no longer maintain her facade. She was torn between her duty to her family and her desire to uncover the truth. As she stood up, the other family members followed her gaze, and their expressions revealed that they had sensed her discomfort.\n",
       "\n",
       "Olivia felt a surge of determination as she turned to her siblings. She declared that she would not let them manipulate her any longer and that she would expose their lies. The family was stunned into silence as Olivia spoke her truth.\n",
       "\n",
       "Olivia's words sparked a heated debate that night. The family members were torn between anger and sadness, as they grappled with the truth about their past. Olivia's revelation shattered the illusion of unity that had existed within the manor, exposing the dark secrets that had long been buried.\n",
       "\n",
       "As Olivia's truth came out, she realized that she had not only changed the course of her family's history but also had also faced her own demons. She had finally confronted the pain of her past and had found a sense of peace and forgiveness.\n",
       "\n",
       "The play ended with Olivia's family finally coming to terms with the truth and forgiving her for standing up to them. The manor's future looked brighter as they worked together to rebuild trust and harmony. Olivia's secret had not only changed her family's fate but also revealed the destructive power of silence and deceit.</span>\n",
       "      </div>\n",
       "    "
      ],
      "text/plain": [
       "<IPython.core.display.HTML object>"
      ]
     },
     "metadata": {},
     "output_type": "display_data"
    }
   ],
   "source": [
    "def generate_conversation(characters, setting, summary, event):\n",
    "    recent_event = event if event else \"No recent events\"\n",
    "    conversation_prompt = f\"\"\"\n",
    "    You are helping to create a play about {setting}\n",
    "    \n",
    "    Generate a conversation between the following characters {\"\\n\\n\".join(characters)}.\n",
    "\n",
    "    The conversation should be dramatic, and based on the history of the characters, their motivations, and their secrets.\n",
    "\n",
    "    A summary of the events and conversation so far: {summary}.\n",
    "\n",
    "    A recent event: ${recent_event}\n",
    "\n",
    "    ONLY generate a few sentences of conversation between one or more of the parties.\n",
    "  \"\"\"\n",
    "\n",
    "    conversation = llm.invoke(conversation_prompt)\n",
    "    p(f\"\\n{conversation}\\n\", \"magenta\")\n",
    "    return conversation\n",
    "\n",
    "\n",
    "def generate_dramatic_event(characters, setting, summary):\n",
    "    event_prompt = f\"\"\"\n",
    "    You are helping to create a play about {setting}\n",
    "\n",
    "    Characters in the play: {\"\\n\\n\".join(characters)}\n",
    "    \n",
    "    Generate a dramatic event that changes the course of the plot.\n",
    "  \"\"\"\n",
    "    event = llm.invoke(event_prompt)\n",
    "    p(f\"\\nEvent: ${event}\", \"black\")\n",
    "    return event\n",
    "\n",
    "\n",
    "def summarize(dialog):\n",
    "    return llm.invoke(\n",
    "        f\"\"\"\n",
    "      Summarize the following {\"\\n\".join(dialog)}\n",
    "    \"\"\"\n",
    "    )\n",
    "\n",
    "\n",
    "def generate_scene(interactions, characters, setting):\n",
    "    event = None\n",
    "    summary = \"\"\n",
    "    scene = []\n",
    "    for i in range(interactions):\n",
    "        p(f\"Interaction: {i}\", \"green\")\n",
    "        conversation = generate_conversation(characters, setting, summary, event)\n",
    "        summary = summarize(scene)\n",
    "        event = generate_dramatic_event(characters, setting, summary)\n",
    "        scene.append(conversation)\n",
    "        scene.append(event)\n",
    "\n",
    "    return scene\n",
    "\n",
    "\n",
    "scene = generate_scene(5, characters, setting)"
   ]
  },
  {
   "cell_type": "code",
   "execution_count": 69,
   "metadata": {},
   "outputs": [],
   "source": [
    "with open(\"scene.txt\", \"w\") as f:\n",
    "    for line in scene:\n",
    "        f.write(line + \"\\n\")\n",
    "\n",
    "scene_prompt = f\"\"\"\n",
    "  \n",
    "\n",
    "  Take the following scene that includes conversation and events, and return them in screenplay format:\n",
    "\n",
    "  {\"\\n\".join(scene)}\n",
    "\"\"\"\n",
    "\n",
    "screenplay = open_ai.invoke(\n",
    "    \"You are helping to create a play about {setting}.\", scene_prompt\n",
    ")\n",
    "\n",
    "with open(\"screenplay.txt\", \"w\") as f:\n",
    "    f.write(screenplay + \"\\n\")"
   ]
  }
 ],
 "metadata": {
  "kernelspec": {
   "display_name": "venv",
   "language": "python",
   "name": "python3"
  },
  "language_info": {
   "codemirror_mode": {
    "name": "ipython",
    "version": 3
   },
   "file_extension": ".py",
   "mimetype": "text/x-python",
   "name": "python",
   "nbconvert_exporter": "python",
   "pygments_lexer": "ipython3",
   "version": "3.12.2"
  }
 },
 "nbformat": 4,
 "nbformat_minor": 2
}
